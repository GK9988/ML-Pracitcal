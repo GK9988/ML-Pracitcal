{
  "nbformat": 4,
  "nbformat_minor": 0,
  "metadata": {
    "colab": {
      "provenance": []
    },
    "kernelspec": {
      "name": "python3",
      "display_name": "Python 3"
    },
    "language_info": {
      "name": "python"
    }
  },
  "cells": [
    {
      "cell_type": "markdown",
      "source": [
        "implementation of svm classifier"
      ],
      "metadata": {
        "id": "xIi7zNQVMx49"
      }
    },
    {
      "cell_type": "code",
      "source": [
        "import pandas as pd\n",
        "import matplotlib.pyplot as plt"
      ],
      "metadata": {
        "id": "7c8xTbXPM3EU"
      },
      "execution_count": null,
      "outputs": []
    },
    {
      "cell_type": "code",
      "source": [
        "from sklearn import svm\n",
        "from sklearn.svm import SVC"
      ],
      "metadata": {
        "id": "evEoKJIlNKLl"
      },
      "execution_count": null,
      "outputs": []
    },
    {
      "cell_type": "code",
      "source": [
        "df = pd.read_csv('/content/Exp7_Fish (1).csv')\n",
        "print(df.head())\n",
        "x=df.iloc[:,1:]\n",
        "print(x)\n",
        "y=df.iloc[:,0:1]\n",
        "print(y)\n"
      ],
      "metadata": {
        "colab": {
          "base_uri": "https://localhost:8080/"
        },
        "id": "N69mfs4FQb6M",
        "outputId": "11e14bbc-e839-425c-8bb3-75c3393a0c0a"
      },
      "execution_count": null,
      "outputs": [
        {
          "output_type": "stream",
          "name": "stdout",
          "text": [
            "  Species  Weight  Length1  Length2  Length3   Height   Width\n",
            "0   Bream   242.0     23.2     25.4     30.0  11.5200  4.0200\n",
            "1   Bream   290.0     24.0     26.3     31.2  12.4800  4.3056\n",
            "2   Bream   340.0     23.9     26.5     31.1  12.3778  4.6961\n",
            "3   Bream   363.0     26.3     29.0     33.5  12.7300  4.4555\n",
            "4   Bream   430.0     26.5     29.0     34.0  12.4440  5.1340\n",
            "     Weight  Length1  Length2  Length3   Height   Width\n",
            "0     242.0     23.2     25.4     30.0  11.5200  4.0200\n",
            "1     290.0     24.0     26.3     31.2  12.4800  4.3056\n",
            "2     340.0     23.9     26.5     31.1  12.3778  4.6961\n",
            "3     363.0     26.3     29.0     33.5  12.7300  4.4555\n",
            "4     430.0     26.5     29.0     34.0  12.4440  5.1340\n",
            "..      ...      ...      ...      ...      ...     ...\n",
            "154    12.2     11.5     12.2     13.4   2.0904  1.3936\n",
            "155    13.4     11.7     12.4     13.5   2.4300  1.2690\n",
            "156    12.2     12.1     13.0     13.8   2.2770  1.2558\n",
            "157    19.7     13.2     14.3     15.2   2.8728  2.0672\n",
            "158    19.9     13.8     15.0     16.2   2.9322  1.8792\n",
            "\n",
            "[159 rows x 6 columns]\n",
            "    Species\n",
            "0     Bream\n",
            "1     Bream\n",
            "2     Bream\n",
            "3     Bream\n",
            "4     Bream\n",
            "..      ...\n",
            "154   Smelt\n",
            "155   Smelt\n",
            "156   Smelt\n",
            "157   Smelt\n",
            "158   Smelt\n",
            "\n",
            "[159 rows x 1 columns]\n"
          ]
        }
      ]
    },
    {
      "cell_type": "code",
      "source": [
        "from sklearn.model_selection import train_test_split\n",
        "x_train, x_test, y_train, y_test = train_test_split(x,y, test_size=0.33,random_state=30)"
      ],
      "metadata": {
        "id": "z5SA1GptQ1DE"
      },
      "execution_count": null,
      "outputs": []
    },
    {
      "cell_type": "code",
      "source": [
        "svm = SVC(kernel='linear', C=3)\n",
        "svm.fit(x_train, y_train)"
      ],
      "metadata": {
        "colab": {
          "base_uri": "https://localhost:8080/",
          "height": 129
        },
        "id": "Ryrr02huW4QL",
        "outputId": "fe9dd463-66ac-499e-ed19-5deba17190c4"
      },
      "execution_count": null,
      "outputs": [
        {
          "output_type": "stream",
          "name": "stderr",
          "text": [
            "/usr/local/lib/python3.10/dist-packages/sklearn/utils/validation.py:1143: DataConversionWarning: A column-vector y was passed when a 1d array was expected. Please change the shape of y to (n_samples, ), for example using ravel().\n",
            "  y = column_or_1d(y, warn=True)\n"
          ]
        },
        {
          "output_type": "execute_result",
          "data": {
            "text/plain": [
              "SVC(C=3, kernel='linear')"
            ],
            "text/html": [
              "<style>#sk-container-id-1 {color: black;background-color: white;}#sk-container-id-1 pre{padding: 0;}#sk-container-id-1 div.sk-toggleable {background-color: white;}#sk-container-id-1 label.sk-toggleable__label {cursor: pointer;display: block;width: 100%;margin-bottom: 0;padding: 0.3em;box-sizing: border-box;text-align: center;}#sk-container-id-1 label.sk-toggleable__label-arrow:before {content: \"▸\";float: left;margin-right: 0.25em;color: #696969;}#sk-container-id-1 label.sk-toggleable__label-arrow:hover:before {color: black;}#sk-container-id-1 div.sk-estimator:hover label.sk-toggleable__label-arrow:before {color: black;}#sk-container-id-1 div.sk-toggleable__content {max-height: 0;max-width: 0;overflow: hidden;text-align: left;background-color: #f0f8ff;}#sk-container-id-1 div.sk-toggleable__content pre {margin: 0.2em;color: black;border-radius: 0.25em;background-color: #f0f8ff;}#sk-container-id-1 input.sk-toggleable__control:checked~div.sk-toggleable__content {max-height: 200px;max-width: 100%;overflow: auto;}#sk-container-id-1 input.sk-toggleable__control:checked~label.sk-toggleable__label-arrow:before {content: \"▾\";}#sk-container-id-1 div.sk-estimator input.sk-toggleable__control:checked~label.sk-toggleable__label {background-color: #d4ebff;}#sk-container-id-1 div.sk-label input.sk-toggleable__control:checked~label.sk-toggleable__label {background-color: #d4ebff;}#sk-container-id-1 input.sk-hidden--visually {border: 0;clip: rect(1px 1px 1px 1px);clip: rect(1px, 1px, 1px, 1px);height: 1px;margin: -1px;overflow: hidden;padding: 0;position: absolute;width: 1px;}#sk-container-id-1 div.sk-estimator {font-family: monospace;background-color: #f0f8ff;border: 1px dotted black;border-radius: 0.25em;box-sizing: border-box;margin-bottom: 0.5em;}#sk-container-id-1 div.sk-estimator:hover {background-color: #d4ebff;}#sk-container-id-1 div.sk-parallel-item::after {content: \"\";width: 100%;border-bottom: 1px solid gray;flex-grow: 1;}#sk-container-id-1 div.sk-label:hover label.sk-toggleable__label {background-color: #d4ebff;}#sk-container-id-1 div.sk-serial::before {content: \"\";position: absolute;border-left: 1px solid gray;box-sizing: border-box;top: 0;bottom: 0;left: 50%;z-index: 0;}#sk-container-id-1 div.sk-serial {display: flex;flex-direction: column;align-items: center;background-color: white;padding-right: 0.2em;padding-left: 0.2em;position: relative;}#sk-container-id-1 div.sk-item {position: relative;z-index: 1;}#sk-container-id-1 div.sk-parallel {display: flex;align-items: stretch;justify-content: center;background-color: white;position: relative;}#sk-container-id-1 div.sk-item::before, #sk-container-id-1 div.sk-parallel-item::before {content: \"\";position: absolute;border-left: 1px solid gray;box-sizing: border-box;top: 0;bottom: 0;left: 50%;z-index: -1;}#sk-container-id-1 div.sk-parallel-item {display: flex;flex-direction: column;z-index: 1;position: relative;background-color: white;}#sk-container-id-1 div.sk-parallel-item:first-child::after {align-self: flex-end;width: 50%;}#sk-container-id-1 div.sk-parallel-item:last-child::after {align-self: flex-start;width: 50%;}#sk-container-id-1 div.sk-parallel-item:only-child::after {width: 0;}#sk-container-id-1 div.sk-dashed-wrapped {border: 1px dashed gray;margin: 0 0.4em 0.5em 0.4em;box-sizing: border-box;padding-bottom: 0.4em;background-color: white;}#sk-container-id-1 div.sk-label label {font-family: monospace;font-weight: bold;display: inline-block;line-height: 1.2em;}#sk-container-id-1 div.sk-label-container {text-align: center;}#sk-container-id-1 div.sk-container {/* jupyter's `normalize.less` sets `[hidden] { display: none; }` but bootstrap.min.css set `[hidden] { display: none !important; }` so we also need the `!important` here to be able to override the default hidden behavior on the sphinx rendered scikit-learn.org. See: https://github.com/scikit-learn/scikit-learn/issues/21755 */display: inline-block !important;position: relative;}#sk-container-id-1 div.sk-text-repr-fallback {display: none;}</style><div id=\"sk-container-id-1\" class=\"sk-top-container\"><div class=\"sk-text-repr-fallback\"><pre>SVC(C=3, kernel=&#x27;linear&#x27;)</pre><b>In a Jupyter environment, please rerun this cell to show the HTML representation or trust the notebook. <br />On GitHub, the HTML representation is unable to render, please try loading this page with nbviewer.org.</b></div><div class=\"sk-container\" hidden><div class=\"sk-item\"><div class=\"sk-estimator sk-toggleable\"><input class=\"sk-toggleable__control sk-hidden--visually\" id=\"sk-estimator-id-1\" type=\"checkbox\" checked><label for=\"sk-estimator-id-1\" class=\"sk-toggleable__label sk-toggleable__label-arrow\">SVC</label><div class=\"sk-toggleable__content\"><pre>SVC(C=3, kernel=&#x27;linear&#x27;)</pre></div></div></div></div></div>"
            ]
          },
          "metadata": {},
          "execution_count": 18
        }
      ]
    },
    {
      "cell_type": "code",
      "source": [
        "y_pred = svm.predict(x_test)\n",
        "print(y_pred)"
      ],
      "metadata": {
        "id": "IVDTinVFXwlw",
        "colab": {
          "base_uri": "https://localhost:8080/"
        },
        "outputId": "b17386c4-2f05-4767-cfe4-6cb560d62902"
      },
      "execution_count": null,
      "outputs": [
        {
          "output_type": "stream",
          "name": "stdout",
          "text": [
            "['Smelt' 'Smelt' 'Perch' 'Bream' 'Perch' 'Whitefish' 'Bream' 'Smelt'\n",
            " 'Perch' 'Bream' 'Pike' 'Bream' 'Roach' 'Bream' 'Perch' 'Roach' 'Perch'\n",
            " 'Roach' 'Perch' 'Parkki' 'Perch' 'Parkki' 'Perch' 'Perch' 'Bream' 'Perch'\n",
            " 'Parkki' 'Perch' 'Pike' 'Perch' 'Perch' 'Perch' 'Pike' 'Bream' 'Perch'\n",
            " 'Smelt' 'Bream' 'Perch' 'Perch' 'Perch' 'Smelt' 'Perch' 'Perch' 'Perch'\n",
            " 'Parkki' 'Pike' 'Smelt' 'Pike' 'Bream' 'Smelt' 'Pike' 'Smelt' 'Parkki']\n"
          ]
        }
      ]
    },
    {
      "cell_type": "code",
      "source": [
        "from sklearn.metrics import accuracy_score, confusion_matrix\n",
        "accuracy = accuracy_score(y_test, y_pred)\n",
        "print(\"Accuracy:\", accuracy)"
      ],
      "metadata": {
        "colab": {
          "base_uri": "https://localhost:8080/"
        },
        "id": "JXNoOWUeN6rk",
        "outputId": "1e67d868-7d67-49f9-f829-e17344528a8e"
      },
      "execution_count": null,
      "outputs": [
        {
          "output_type": "stream",
          "name": "stdout",
          "text": [
            "Accuracy: 0.9245283018867925\n"
          ]
        }
      ]
    },
    {
      "cell_type": "code",
      "source": [
        "confusion = confusion_matrix(y_test, y_pred)\n",
        "\n",
        "print('Accuracy:',accuracy)\n",
        "print('Confusion Matrix:\\n',confusion)"
      ],
      "metadata": {
        "colab": {
          "base_uri": "https://localhost:8080/"
        },
        "id": "cYOqiwJYWJxE",
        "outputId": "4514a8c7-65ea-47c7-8f0b-056d55ea8e07"
      },
      "execution_count": null,
      "outputs": [
        {
          "output_type": "stream",
          "name": "stdout",
          "text": [
            "Accuracy: 0.9245283018867925\n",
            "Confusion Matrix:\n",
            " [[ 9  2  0  0  0  0  0]\n",
            " [ 0  3  0  0  0  0  0]\n",
            " [ 0  0 20  0  0  1  0]\n",
            " [ 0  0  0  6  0  0  0]\n",
            " [ 0  0  1  0  3  0  0]\n",
            " [ 0  0  0  0  0  7  0]\n",
            " [ 0  0  0  0  0  0  1]]\n"
          ]
        }
      ]
    },
    {
      "cell_type": "code",
      "source": [],
      "metadata": {
        "id": "nLnmfI2MVTfx"
      },
      "execution_count": null,
      "outputs": []
    }
  ]
}