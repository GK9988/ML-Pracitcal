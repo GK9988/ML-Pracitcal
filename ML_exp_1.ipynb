{
  "nbformat": 4,
  "nbformat_minor": 0,
  "metadata": {
    "colab": {
      "provenance": []
    },
    "kernelspec": {
      "name": "python3",
      "display_name": "Python 3"
    },
    "language_info": {
      "name": "python"
    }
  },
  "cells": [
    {
      "cell_type": "code",
      "execution_count": null,
      "metadata": {
        "colab": {
          "base_uri": "https://localhost:8080/"
        },
        "id": "LsG3zDN_rjk5",
        "outputId": "a9c4b294-c3de-4b94-fe21-448116ecceee"
      },
      "outputs": [
        {
          "output_type": "stream",
          "name": "stdout",
          "text": [
            "[22, 33, 44, 80, 66]\n"
          ]
        }
      ],
      "source": [
        "l=[22,33,44,55,66]\n",
        "l[3]=80\n",
        "print(l)"
      ]
    },
    {
      "cell_type": "code",
      "source": [
        "import pandas as pd\n",
        "s=pd.Series([11,22,33,44,55])\n",
        "print(s)"
      ],
      "metadata": {
        "colab": {
          "base_uri": "https://localhost:8080/"
        },
        "id": "zC0pc3LRvN2X",
        "outputId": "613a7b2d-ac53-4322-d325-b4ffb2d489b7"
      },
      "execution_count": null,
      "outputs": [
        {
          "output_type": "stream",
          "name": "stdout",
          "text": [
            "0    11\n",
            "1    22\n",
            "2    33\n",
            "3    44\n",
            "4    55\n",
            "dtype: int64\n"
          ]
        }
      ]
    },
    {
      "cell_type": "code",
      "source": [
        "d=[[\"Nancy\",10],[\"Pryanshu\",20],[\"Pushkar\",30],[\"Jaikavi\",40]]\n",
        "df=pd.DataFrame(d,columns=[\"Name\",\"Index\"])\n",
        "print(df)"
      ],
      "metadata": {
        "colab": {
          "base_uri": "https://localhost:8080/"
        },
        "id": "O1eX8jU_xOQv",
        "outputId": "b1124801-127b-40c9-c1a9-2a9bf052e929"
      },
      "execution_count": null,
      "outputs": [
        {
          "output_type": "stream",
          "name": "stdout",
          "text": [
            "       Name  Index\n",
            "0     Nancy     10\n",
            "1  Pryanshu     20\n",
            "2   Pushkar     30\n",
            "3   Jaikavi     40\n"
          ]
        }
      ]
    },
    {
      "cell_type": "code",
      "source": [
        "n=[23,45,67,89,90]\n",
        "sum=0\n",
        "for i in range(len(n)):\n",
        "  sum=sum+n[i]\n",
        "mean=sum/len(n)\n",
        "print(mean)"
      ],
      "metadata": {
        "colab": {
          "base_uri": "https://localhost:8080/"
        },
        "id": "GTorhn_gx23s",
        "outputId": "5b1d4a73-84a3-4983-aa87-4e89dc51ee56"
      },
      "execution_count": null,
      "outputs": [
        {
          "output_type": "stream",
          "name": "stdout",
          "text": [
            "62.8\n"
          ]
        }
      ]
    },
    {
      "cell_type": "code",
      "source": [
        "emid=((len(n)+1)//2)\n",
        "print(\"median at odd\")\n",
        "print(emid)\n",
        "print(n[emid-1])"
      ],
      "metadata": {
        "colab": {
          "base_uri": "https://localhost:8080/"
        },
        "id": "uYkPLItF0k8B",
        "outputId": "58139fa1-a1a2-410d-9c81-aa813909f87d"
      },
      "execution_count": null,
      "outputs": [
        {
          "output_type": "stream",
          "name": "stdout",
          "text": [
            "median at odd\n",
            "3\n",
            "67\n"
          ]
        }
      ]
    },
    {
      "cell_type": "code",
      "source": [
        "n1=[99,88,77,66,55,44]\n",
        "omid=((len(n1)//2)+((len(n1)//2)+1))//2\n",
        "print(\"median at even\")\n",
        "print((n1[omid-1]+n1[omid])/2)"
      ],
      "metadata": {
        "colab": {
          "base_uri": "https://localhost:8080/"
        },
        "id": "EEp1z6oS1-Ut",
        "outputId": "ded4322c-e597-4a8b-bb7d-2bda1eb184ed"
      },
      "execution_count": null,
      "outputs": [
        {
          "output_type": "stream",
          "name": "stdout",
          "text": [
            "median at even\n",
            "71.5\n"
          ]
        }
      ]
    },
    {
      "cell_type": "code",
      "source": [
        "import numpy as np\n",
        "value=[99,86,87,88,111,86,103,87,94,78,77,85,86,99,99]\n",
        "m=np.mean(value)\n",
        "print(\"Mean is = \",m)\n",
        "data=np.sort(value)\n",
        "mid=np.median(data)\n",
        "print(\"Median is = \",mid)\n",
        "import statistics as stat\n",
        "print(\"Low Median is =\",stat.median_low(data))\n",
        "print(\"High Median is =\",stat.median_high(data))"
      ],
      "metadata": {
        "id": "LpQ7akJL7n4v",
        "colab": {
          "base_uri": "https://localhost:8080/"
        },
        "outputId": "bdad52c0-02fb-4d74-b1d3-8690b2fe59e9"
      },
      "execution_count": null,
      "outputs": [
        {
          "output_type": "stream",
          "name": "stdout",
          "text": [
            "Mean is =  91.0\n",
            "Median is =  87.0\n",
            "Low Median is = 87\n",
            "High Median is = 87\n"
          ]
        }
      ]
    },
    {
      "cell_type": "code",
      "source": [
        "from scipy import stats as st\n",
        "z=st.mode(data)\n",
        "print(\"Mode is = \",z)  #this shows single mode\n",
        "print(\"Multiple Mode is= \",stat.multimode(data)) #this shows multiple modes\n",
        "\n",
        "v=np.var(data)\n",
        "sd=np.std(data)\n",
        "print(\"Variance is = \",v)\n",
        "print(\"Standard Devaition = \",sd)"
      ],
      "metadata": {
        "colab": {
          "base_uri": "https://localhost:8080/"
        },
        "id": "nV3t05l201JZ",
        "outputId": "e17665f3-c28d-436b-dd18-d71f4701c9d5"
      },
      "execution_count": null,
      "outputs": [
        {
          "output_type": "stream",
          "name": "stdout",
          "text": [
            "Mode is =  ModeResult(mode=array([86]), count=array([3]))\n",
            "Multiple Mode is=  [86, 99]\n",
            "Variance is =  84.13333333333334\n",
            "Standard Devaition =  9.17242243539477\n"
          ]
        }
      ]
    },
    {
      "cell_type": "code",
      "source": [
        "import pandas as pd\n",
        "da={\"physics\":[32,17,50,25,17,35], \"chemistry\":[24,24,25,34,31,24], \"maths\":[30,21,28,21,18,19], \"bio\":[40,28,32,48,28,42]}\n",
        "df1=pd.DataFrame(da)\n",
        "print(df1)"
      ],
      "metadata": {
        "colab": {
          "base_uri": "https://localhost:8080/"
        },
        "id": "aLOYoMT85wls",
        "outputId": "7caaaa64-f0d4-463c-929f-f82a46bfe52f"
      },
      "execution_count": null,
      "outputs": [
        {
          "output_type": "stream",
          "name": "stdout",
          "text": [
            "   physics  chemistry  maths  bio\n",
            "0       32         24     30   40\n",
            "1       17         24     21   28\n",
            "2       50         25     28   32\n",
            "3       25         34     21   48\n",
            "4       17         31     18   28\n",
            "5       35         24     19   42\n"
          ]
        }
      ]
    },
    {
      "cell_type": "code",
      "source": [
        "print(stat.median(df1.physics))"
      ],
      "metadata": {
        "colab": {
          "base_uri": "https://localhost:8080/"
        },
        "id": "2Rs36c8h-Wtq",
        "outputId": "4622a3e3-7130-4bca-8017-e670090d2927"
      },
      "execution_count": null,
      "outputs": [
        {
          "output_type": "stream",
          "name": "stdout",
          "text": [
            "28.5\n"
          ]
        }
      ]
    },
    {
      "cell_type": "code",
      "source": [
        "print(df1.describe())"
      ],
      "metadata": {
        "colab": {
          "base_uri": "https://localhost:8080/"
        },
        "id": "2a7HozvAAY9J",
        "outputId": "ef0d806a-89ea-415a-91bf-3349cdb7232f"
      },
      "execution_count": null,
      "outputs": [
        {
          "output_type": "stream",
          "name": "stdout",
          "text": [
            "         physics  chemistry      maths        bio\n",
            "count   6.000000    6.00000   6.000000   6.000000\n",
            "mean   29.333333   27.00000  22.833333  36.333333\n",
            "std    12.564500    4.38178   4.956477   8.238123\n",
            "min    17.000000   24.00000  18.000000  28.000000\n",
            "25%    19.000000   24.00000  19.500000  29.000000\n",
            "50%    28.500000   24.50000  21.000000  36.000000\n",
            "75%    34.250000   29.50000  26.250000  41.500000\n",
            "max    50.000000   34.00000  30.000000  48.000000\n"
          ]
        }
      ]
    },
    {
      "cell_type": "code",
      "source": [
        "df1.mode()\n",
        "df1.median()\n",
        "df1.mean()"
      ],
      "metadata": {
        "colab": {
          "base_uri": "https://localhost:8080/"
        },
        "id": "Ahsy7qCJAvEo",
        "outputId": "0de2141c-5e72-4329-f5ae-5b9425a94bc0"
      },
      "execution_count": null,
      "outputs": [
        {
          "output_type": "execute_result",
          "data": {
            "text/plain": [
              "physics      29.333333\n",
              "chemistry    27.000000\n",
              "maths        22.833333\n",
              "bio          36.333333\n",
              "dtype: float64"
            ]
          },
          "metadata": {},
          "execution_count": 42
        }
      ]
    },
    {
      "cell_type": "code",
      "source": [
        "from numpy.lib.function_base import percentile\n",
        "age=[5,31,43,48,50,41,7,11,15,39,80,82,32,2,8,6,25,36,27,61,31]\n",
        "print(percentile(age,75))\n",
        "print(percentile(age,90))"
      ],
      "metadata": {
        "colab": {
          "base_uri": "https://localhost:8080/"
        },
        "id": "4wUsyyQrA1X4",
        "outputId": "0eae7df6-9b1a-4708-c1e9-8a0366358e63"
      },
      "execution_count": null,
      "outputs": [
        {
          "output_type": "stream",
          "name": "stdout",
          "text": [
            "43.0\n",
            "61.0\n"
          ]
        }
      ]
    },
    {
      "cell_type": "code",
      "source": [
        "#viva  \n",
        "from scipy.stats import skew\n",
        "dataset = [88,82,97,67,77,74,6,81,95,77,88,85,76,81]\n",
        "print(skew(dataset))"
      ],
      "metadata": {
        "id": "3bNFaklqE2NP",
        "colab": {
          "base_uri": "https://localhost:8080/"
        },
        "outputId": "ffd12e8c-3e32-490c-b410-9e819fee4782"
      },
      "execution_count": null,
      "outputs": [
        {
          "output_type": "stream",
          "name": "stdout",
          "text": [
            "-2.5549701577151858\n"
          ]
        }
      ]
    },
    {
      "cell_type": "code",
      "source": [],
      "metadata": {
        "id": "Jt4IJA9Fno5i"
      },
      "execution_count": null,
      "outputs": []
    }
  ]
}