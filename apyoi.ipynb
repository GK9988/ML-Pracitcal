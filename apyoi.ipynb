{
  "nbformat": 4,
  "nbformat_minor": 0,
  "metadata": {
    "colab": {
      "provenance": []
    },
    "kernelspec": {
      "name": "python3",
      "display_name": "Python 3"
    },
    "language_info": {
      "name": "python"
    }
  },
  "cells": [
    {
      "cell_type": "code",
      "execution_count": null,
      "metadata": {
        "colab": {
          "base_uri": "https://localhost:8080/"
        },
        "id": "zs4SWkSjgfQZ",
        "outputId": "025581b8-6389-49ad-e5a5-aa625426ad15"
      },
      "outputs": [
        {
          "output_type": "stream",
          "name": "stdout",
          "text": [
            "Looking in indexes: https://pypi.org/simple, https://us-python.pkg.dev/colab-wheels/public/simple/\n",
            "Requirement already satisfied: apyori in /usr/local/lib/python3.10/dist-packages (1.1.2)\n"
          ]
        }
      ],
      "source": [
        "pip install apyori"
      ]
    },
    {
      "cell_type": "code",
      "source": [
        "import pandas as pd\n",
        "from apyori import apriori"
      ],
      "metadata": {
        "id": "c6AtAp5_glOY"
      },
      "execution_count": null,
      "outputs": []
    },
    {
      "cell_type": "code",
      "source": [
        "df = pd.read_csv('/content/transaction (1).csv', header=None)"
      ],
      "metadata": {
        "id": "-6SIF8zMgs8F"
      },
      "execution_count": null,
      "outputs": []
    },
    {
      "cell_type": "code",
      "source": [
        "print(\"Display statistics: \")\n",
        "print(\"===================\")\n",
        "print(df.describe())"
      ],
      "metadata": {
        "colab": {
          "base_uri": "https://localhost:8080/"
        },
        "id": "r8CDhNU8hK0V",
        "outputId": "afe7bfef-b62c-49cb-98c8-3c11e49c7c9a"
      },
      "execution_count": null,
      "outputs": [
        {
          "output_type": "stream",
          "name": "stdout",
          "text": [
            "Display statistics: \n",
            "===================\n",
            "            0      1      2       3     4       5\n",
            "count      19     18     23      23    20      22\n",
            "unique      1      1      1       1     1       1\n",
            "top     Juice  Chips  Bread  Butter  Milk  Banana\n",
            "freq       19     18     23      23    20      22\n"
          ]
        }
      ]
    },
    {
      "cell_type": "code",
      "source": [
        "print(\"\\nShape:\",df.shape)"
      ],
      "metadata": {
        "colab": {
          "base_uri": "https://localhost:8080/"
        },
        "id": "iMmF1SAlhMQ1",
        "outputId": "93a9e693-aed9-4e47-e7a1-80035e197945"
      },
      "execution_count": null,
      "outputs": [
        {
          "output_type": "stream",
          "name": "stdout",
          "text": [
            "\n",
            "Shape: (30, 6)\n"
          ]
        }
      ]
    },
    {
      "cell_type": "code",
      "source": [
        "# Step 5: Convert dataframe into a nested list\n",
        "database = []\n",
        "for i in range(0,30):\n",
        "    database.append([str(df.values[i,j]) for j in range(0,6)])\n",
        "\n",
        "# Step 6: Develop the Apriori model \n",
        "arm_rules = apriori(database, min_support=0.5, min_confidence=0.7, min_lift=1.2)\n",
        "arm_results = list((arm_rules))"
      ],
      "metadata": {
        "id": "GuP_Kfw-hPAF"
      },
      "execution_count": null,
      "outputs": []
    },
    {
      "cell_type": "code",
      "source": [
        "# Step 7: Display the number of rule(s)\n",
        "print(\"\\nNo. of rule(s):\",len(arm_results))"
      ],
      "metadata": {
        "id": "y2IrDEzLhQwl",
        "outputId": "2d9a0629-41a5-46cb-cf31-6144318a09f1",
        "colab": {
          "base_uri": "https://localhost:8080/"
        }
      },
      "execution_count": null,
      "outputs": [
        {
          "output_type": "stream",
          "name": "stdout",
          "text": [
            "\n",
            "No. of rule(s): 1\n"
          ]
        }
      ]
    },
    {
      "cell_type": "code",
      "source": [
        "# Step 8: Display the rule(s)\n",
        "print(\"\\nResults: \")\n",
        "print(\"========\")\n",
        "print(arm_results)"
      ],
      "metadata": {
        "id": "o6FrGVWzhSm1",
        "outputId": "4c459be6-9be1-4800-993e-51d09ce62705",
        "colab": {
          "base_uri": "https://localhost:8080/"
        }
      },
      "execution_count": null,
      "outputs": [
        {
          "output_type": "stream",
          "name": "stdout",
          "text": [
            "\n",
            "Results: \n",
            "========\n",
            "[RelationRecord(items=frozenset({'Milk', 'Butter', 'Bread'}), support=0.5, ordered_statistics=[OrderedStatistic(items_base=frozenset({'Milk', 'Bread'}), items_add=frozenset({'Butter'}), confidence=0.9375, lift=1.2228260869565217)])]\n"
          ]
        }
      ]
    },
    {
      "cell_type": "code",
      "source": [],
      "metadata": {
        "id": "_Re0nC0shUDV"
      },
      "execution_count": null,
      "outputs": []
    }
  ]
}