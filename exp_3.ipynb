{
  "cells": [
    {
      "cell_type": "code",
      "execution_count": null,
      "metadata": {
        "id": "EteRCvVD5hpU",
        "colab": {
          "base_uri": "https://localhost:8080/"
        },
        "outputId": "6fa628f6-6db2-4804-fe2d-2ddb22705eb8"
      },
      "outputs": [
        {
          "output_type": "stream",
          "name": "stdout",
          "text": [
            "        Id  MSSubClass LotFrontage  LotArea LotConfig Neighborhood BldgType  \\\n",
            "0     1461        20.0          80    11622    Inside        NAmes     1Fam   \n",
            "1     1462        20.0          ##    14267    Corner        NAmes     1Fam   \n",
            "2     1463        60.0          74    13830    Inside      Gilbert     1Fam   \n",
            "3     1464        60.0          78     9978    Inside      Gilbert       Na   \n",
            "4     1465       120.0          43     5005    Inside      StoneBr   TwnhsE   \n",
            "...    ...         ...         ...      ...       ...          ...      ...   \n",
            "1454  2915       160.0          21     1936    Inside      MeadowV    Twnhs   \n",
            "1455  2916       160.0          21     1894    Inside      MeadowV   TwnhsE   \n",
            "1456  2917        20.0         160    20000    Inside      Mitchel     1Fam   \n",
            "1457  2918        85.0          62    10441    Inside      Mitchel     1Fam   \n",
            "1458  2919        60.0          74     9627    Inside      Mitchel     1Fam   \n",
            "\n",
            "     HouseStyle OverallQual OverallCond  YearBuilt RoofStyle  TotalBsmtSF  \\\n",
            "0        1Story           5           6       1961     Gable        882.0   \n",
            "1        1Story           6           6       1958       Hip       1329.0   \n",
            "2        2Story         NaN           5       1997     Gable        928.0   \n",
            "3             ?           6           6       1998         #        926.0   \n",
            "4        1Story           8         Nan       1992     Gable       1280.0   \n",
            "...         ...         ...         ...        ...       ...          ...   \n",
            "1454     2Story           4           7       1970     Gable        546.0   \n",
            "1455     2Story           4           5       1970     Gable        546.0   \n",
            "1456     1Story           5           7       1960     Gable       1224.0   \n",
            "1457     SFoyer           5           5       1992     Gable        912.0   \n",
            "1458     2Story           7           5       1993     Gable        996.0   \n",
            "\n",
            "      GrLivArea BedroomAbvGr  TotRmsAbvGrd  GarageArea  \n",
            "0           896            2             5       730.0  \n",
            "1          1329            3             6       312.0  \n",
            "2          1629            3             6       482.0  \n",
            "3          1604            3             7       470.0  \n",
            "4          1280            2             5       506.0  \n",
            "...         ...          ...           ...         ...  \n",
            "1454       1092            3             5         0.0  \n",
            "1455       1092            3             6       286.0  \n",
            "1456       1224            4             7       576.0  \n",
            "1457        970            3             6         0.0  \n",
            "1458       2000            3             9       650.0  \n",
            "\n",
            "[1459 rows x 17 columns]\n"
          ]
        }
      ],
      "source": [
        "import numpy as np \n",
        "import pandas as pd\n",
        "df=pd.read_csv(\"DataPreprocessing.csv\")\n",
        "print(df)"
      ]
    },
    {
      "cell_type": "code",
      "execution_count": null,
      "metadata": {
        "colab": {
          "base_uri": "https://localhost:8080/"
        },
        "id": "e6VQcgUy7TeO",
        "outputId": "eb7bdc4d-122a-4fef-c047-68406795c516"
      },
      "outputs": [
        {
          "output_type": "stream",
          "name": "stdout",
          "text": [
            "checking if the vale is null or not\n",
            " Id                0\n",
            "MSSubClass        3\n",
            "LotFrontage     227\n",
            "LotArea           0\n",
            "LotConfig         0\n",
            "Neighborhood      0\n",
            "BldgType          0\n",
            "HouseStyle        0\n",
            "OverallQual       4\n",
            "OverallCond       0\n",
            "YearBuilt         0\n",
            "RoofStyle         0\n",
            "TotalBsmtSF       1\n",
            "GrLivArea         0\n",
            "BedroomAbvGr      0\n",
            "TotRmsAbvGrd      0\n",
            "GarageArea        1\n",
            "dtype: int64\n"
          ]
        }
      ],
      "source": [
        "print(\"checking if the vale is null or not\\n\",df.isnull().sum())"
      ]
    },
    {
      "cell_type": "code",
      "execution_count": null,
      "metadata": {
        "colab": {
          "base_uri": "https://localhost:8080/"
        },
        "id": "ASqigYXb70yk",
        "outputId": "4eff866a-d76b-41fc-f925-c952760e3ebd"
      },
      "outputs": [
        {
          "output_type": "stream",
          "name": "stdout",
          "text": [
            "Will disply info\n",
            " <bound method DataFrame.info of         Id  MSSubClass LotFrontage  LotArea LotConfig Neighborhood BldgType  \\\n",
            "0     1461        20.0          80    11622    Inside        NAmes     1Fam   \n",
            "1     1462        20.0          ##    14267    Corner        NAmes     1Fam   \n",
            "2     1463        60.0          74    13830    Inside      Gilbert     1Fam   \n",
            "3     1464        60.0          78     9978    Inside      Gilbert       Na   \n",
            "4     1465       120.0          43     5005    Inside      StoneBr   TwnhsE   \n",
            "...    ...         ...         ...      ...       ...          ...      ...   \n",
            "1454  2915       160.0          21     1936    Inside      MeadowV    Twnhs   \n",
            "1455  2916       160.0          21     1894    Inside      MeadowV   TwnhsE   \n",
            "1456  2917        20.0         160    20000    Inside      Mitchel     1Fam   \n",
            "1457  2918        85.0          62    10441    Inside      Mitchel     1Fam   \n",
            "1458  2919        60.0          74     9627    Inside      Mitchel     1Fam   \n",
            "\n",
            "     HouseStyle OverallQual OverallCond  YearBuilt RoofStyle  TotalBsmtSF  \\\n",
            "0        1Story           5           6       1961     Gable        882.0   \n",
            "1        1Story           6           6       1958       Hip       1329.0   \n",
            "2        2Story         NaN           5       1997     Gable        928.0   \n",
            "3             ?           6           6       1998         #        926.0   \n",
            "4        1Story           8         Nan       1992     Gable       1280.0   \n",
            "...         ...         ...         ...        ...       ...          ...   \n",
            "1454     2Story           4           7       1970     Gable        546.0   \n",
            "1455     2Story           4           5       1970     Gable        546.0   \n",
            "1456     1Story           5           7       1960     Gable       1224.0   \n",
            "1457     SFoyer           5           5       1992     Gable        912.0   \n",
            "1458     2Story           7           5       1993     Gable        996.0   \n",
            "\n",
            "      GrLivArea BedroomAbvGr  TotRmsAbvGrd  GarageArea  \n",
            "0           896            2             5       730.0  \n",
            "1          1329            3             6       312.0  \n",
            "2          1629            3             6       482.0  \n",
            "3          1604            3             7       470.0  \n",
            "4          1280            2             5       506.0  \n",
            "...         ...          ...           ...         ...  \n",
            "1454       1092            3             5         0.0  \n",
            "1455       1092            3             6       286.0  \n",
            "1456       1224            4             7       576.0  \n",
            "1457        970            3             6         0.0  \n",
            "1458       2000            3             9       650.0  \n",
            "\n",
            "[1459 rows x 17 columns]>\n"
          ]
        }
      ],
      "source": [
        "print(\"Will disply info\\n\",df.info)                                                                                                                                                                                                                                                             "
      ]
    },
    {
      "cell_type": "code",
      "execution_count": null,
      "metadata": {
        "colab": {
          "base_uri": "https://localhost:8080/"
        },
        "id": "ySyiCcqh8Vak",
        "outputId": "97b4d648-167c-40b7-d2db-9e5a12572a0b"
      },
      "outputs": [
        {
          "output_type": "stream",
          "name": "stdout",
          "text": [
            "datatypes\n",
            " Id                int64\n",
            "MSSubClass      float64\n",
            "LotFrontage      object\n",
            "LotArea           int64\n",
            "LotConfig        object\n",
            "Neighborhood     object\n",
            "BldgType         object\n",
            "HouseStyle       object\n",
            "OverallQual      object\n",
            "OverallCond      object\n",
            "YearBuilt         int64\n",
            "RoofStyle        object\n",
            "TotalBsmtSF     float64\n",
            "GrLivArea         int64\n",
            "BedroomAbvGr     object\n",
            "TotRmsAbvGrd      int64\n",
            "GarageArea      float64\n",
            "dtype: object\n"
          ]
        }
      ],
      "source": [
        "print(\"datatypes\\n\",df.dtypes)"
      ]
    },
    {
      "cell_type": "code",
      "execution_count": null,
      "metadata": {
        "colab": {
          "base_uri": "https://localhost:8080/"
        },
        "id": "AxpVzA858aUE",
        "outputId": "406f00f6-b8fd-48ae-cdce-561be936e738"
      },
      "outputs": [
        {
          "output_type": "stream",
          "name": "stdout",
          "text": [
            "unique values of MSSubClass column\n",
            " [ 20.  30.  40.  45.  50.  60.  70.  75.  80.  85.  90. 120. 150. 160.\n",
            " 180. 190. 590. 620.  nan]\n",
            "\n",
            "unique values of LotArea column\n",
            " [ 1470  1476  1477 ... 50102 51974 56600]\n",
            "\n",
            "unique values of neighbourhood column\n",
            " ['Blmngtn' 'Blueste' 'BrDale' 'BrkSide' 'ClearCr' 'CollgCr' 'Crawfor'\n",
            " 'Edwards' 'Gilbert' 'IDOTRR' 'MeadowV' 'Mitchel' 'NAmes' 'NPkVill'\n",
            " 'NWAmes' 'NoRidge' 'NridgHt' 'OldTown' 'SWISU' 'Sawyer' 'SawyerW'\n",
            " 'Somerst' 'StoneBr' 'Timber' 'Veenker']\n",
            "\n",
            "unique values of LotConfig column\n",
            " ['Corner' 'CulDSac' 'FR2' 'FR3' 'Inside']\n",
            "\n",
            "unique values of BldgType column\n",
            " ['1Fam' '2fmCon' 'Duplex' 'Na' 'Twnhs' 'TwnhsE']\n",
            "\n",
            "unique values of HouseStyle column\n",
            " ['1.5Fin' '1.5Unf' '1Story' '2.5Unf' '2Story' ':-' '?' 'SFoyer' 'SLvl'\n",
            " '__']\n",
            "\n",
            "unique values of OverallQual column\n",
            " ['5' '6' nan '8' '_' '7' '4' '9' '2' '3' '10' '1']\n"
          ]
        }
      ],
      "source": [
        "print(\"unique values of MSSubClass column\\n\",np.unique(df[\"MSSubClass\"]))\n",
        "print(\"\\nunique values of LotArea column\\n\",np.unique(df[\"LotArea\"]))\n",
        "print(\"\\nunique values of neighbourhood column\\n\",np.unique(df[\"Neighborhood\"]))\n",
        "print(\"\\nunique values of LotConfig column\\n\",np.unique(df[\"LotConfig\"]))\n",
        "print(\"\\nunique values of BldgType column\\n\",np.unique(df[\"BldgType\"]))\n",
        "print(\"\\nunique values of HouseStyle column\\n\",np.unique(df[\"HouseStyle\"]))\n",
        "print(\"\\nunique values of OverallQual column\\n\",df.OverallQual.unique())  #new way"
      ]
    },
    {
      "cell_type": "code",
      "execution_count": null,
      "metadata": {
        "colab": {
          "base_uri": "https://localhost:8080/"
        },
        "id": "8RnohpZ489VU",
        "outputId": "7f931ddd-edf9-4058-c9bd-3ad3fa126157"
      },
      "outputs": [
        {
          "output_type": "stream",
          "name": "stdout",
          "text": [
            "replacing all the unwanted error values None\n",
            "Id                0\n",
            "MSSubClass        3\n",
            "LotFrontage     228\n",
            "LotArea           0\n",
            "LotConfig         0\n",
            "Neighborhood      0\n",
            "BldgType          0\n",
            "HouseStyle        2\n",
            "OverallQual       5\n",
            "OverallCond       1\n",
            "YearBuilt         0\n",
            "RoofStyle         1\n",
            "TotalBsmtSF       1\n",
            "GrLivArea         0\n",
            "BedroomAbvGr      2\n",
            "TotRmsAbvGrd      0\n",
            "GarageArea        1\n",
            "dtype: int64\n"
          ]
        }
      ],
      "source": [
        "print(\"replacing all the unwanted error values\",df.replace(['?','_','-','#','##','na','NA','Nan'],np.nan,inplace=True))\n",
        "print(df.isnull().sum())"
      ]
    },
    {
      "cell_type": "code",
      "execution_count": null,
      "metadata": {
        "colab": {
          "base_uri": "https://localhost:8080/"
        },
        "id": "m2oIJskpBWEl",
        "outputId": "b1a84a22-7036-46f1-ebe8-da4634db7b04"
      },
      "outputs": [
        {
          "output_type": "stream",
          "name": "stdout",
          "text": [
            "None\n",
            "None\n",
            "        Id  MSSubClass LotFrontage  LotArea LotConfig Neighborhood BldgType  \\\n",
            "0     1461        20.0          80    11622    Inside        NAmes     1Fam   \n",
            "1     1462        20.0        67.0    14267    Corner        NAmes     1Fam   \n",
            "2     1463        60.0          74    13830    Inside      Gilbert     1Fam   \n",
            "3     1464        60.0          78     9978    Inside      Gilbert       Na   \n",
            "4     1465       120.0          43     5005    Inside      StoneBr   TwnhsE   \n",
            "...    ...         ...         ...      ...       ...          ...      ...   \n",
            "1454  2915       160.0          21     1936    Inside      MeadowV    Twnhs   \n",
            "1455  2916       160.0          21     1894    Inside      MeadowV   TwnhsE   \n",
            "1456  2917        20.0         160    20000    Inside      Mitchel     1Fam   \n",
            "1457  2918        85.0          62    10441    Inside      Mitchel     1Fam   \n",
            "1458  2919        60.0          74     9627    Inside      Mitchel     1Fam   \n",
            "\n",
            "     HouseStyle OverallQual OverallCond  YearBuilt RoofStyle  TotalBsmtSF  \\\n",
            "0        1Story           5           6       1961     Gable        882.0   \n",
            "1        1Story           6           6       1958       Hip       1329.0   \n",
            "2        2Story         NaN           5       1997     Gable        928.0   \n",
            "3           NaN           6           6       1998       NaN        926.0   \n",
            "4        1Story           8         NaN       1992     Gable       1280.0   \n",
            "...         ...         ...         ...        ...       ...          ...   \n",
            "1454     2Story           4           7       1970     Gable        546.0   \n",
            "1455     2Story           4           5       1970     Gable        546.0   \n",
            "1456     1Story           5           7       1960     Gable       1224.0   \n",
            "1457     SFoyer           5           5       1992     Gable        912.0   \n",
            "1458     2Story           7           5       1993     Gable        996.0   \n",
            "\n",
            "      GrLivArea BedroomAbvGr  TotRmsAbvGrd  GarageArea  \n",
            "0           896            2             5       730.0  \n",
            "1          1329            3             6       312.0  \n",
            "2          1629            3             6       482.0  \n",
            "3          1604            3             7       470.0  \n",
            "4          1280            2             5       506.0  \n",
            "...         ...          ...           ...         ...  \n",
            "1454       1092            3             5         0.0  \n",
            "1455       1092            3             6       286.0  \n",
            "1456       1224            4             7       576.0  \n",
            "1457        970            3             6         0.0  \n",
            "1458       2000            3             9       650.0  \n",
            "\n",
            "[1459 rows x 17 columns]\n"
          ]
        }
      ],
      "source": [
        "import statistics as st\n",
        "print(df[\"MSSubClass\"].fillna(st.mode(df[\"MSSubClass\"]),inplace=True))\n",
        "print(df[\"LotFrontage\"].fillna(df[\"LotFrontage\"].median(),inplace=True))\n",
        "print(df)"
      ]
    },
    {
      "cell_type": "code",
      "execution_count": null,
      "metadata": {
        "colab": {
          "base_uri": "https://localhost:8080/"
        },
        "id": "cO3SI-dXGVbl",
        "outputId": "f932f110-ce15-444d-dcdb-872504f2c9bb"
      },
      "outputs": [
        {
          "output_type": "execute_result",
          "data": {
            "text/plain": [
              "Id              0\n",
              "MSSubClass      0\n",
              "LotFrontage     0\n",
              "LotArea         0\n",
              "LotConfig       0\n",
              "Neighborhood    0\n",
              "BldgType        0\n",
              "HouseStyle      2\n",
              "OverallQual     5\n",
              "OverallCond     1\n",
              "YearBuilt       0\n",
              "RoofStyle       1\n",
              "TotalBsmtSF     1\n",
              "GrLivArea       0\n",
              "BedroomAbvGr    2\n",
              "TotRmsAbvGrd    0\n",
              "GarageArea      1\n",
              "dtype: int64"
            ]
          },
          "metadata": {},
          "execution_count": 14
        }
      ],
      "source": [
        "df.isnull().sum() # the null values of LotFrontage column are replaced by the median of that column"
      ]
    },
    {
      "cell_type": "code",
      "execution_count": null,
      "metadata": {
        "id": "t6Z25DLlGkgk",
        "colab": {
          "base_uri": "https://localhost:8080/"
        },
        "outputId": "3c858bd0-d4e9-4966-9dc7-4398e17dc0e9"
      },
      "outputs": [
        {
          "output_type": "stream",
          "name": "stdout",
          "text": [
            "    age  gender   review education purchased\n",
            "0    30  Female  Average    School        No\n",
            "1    68  Female     Poor        UG        No\n",
            "2    70  Female     Good        PG        No\n",
            "3    72  Female     Good        PG        No\n",
            "4    16  Female  Average        UG        No\n",
            "5    31  Female  Average    School       Yes\n",
            "6    18    Male     Good    School        No\n",
            "7    60  Female     Poor    School       Yes\n",
            "8    65  Female  Average        UG        No\n",
            "9    74    Male     Good        UG       Yes\n",
            "10   98  Female     Good        UG       Yes\n",
            "11   74    Male     Good        UG       Yes\n",
            "12   51    Male     Poor    School        No\n",
            "13   57  Female  Average    School        No\n",
            "14   15    Male     Poor        PG       Yes\n",
            "15   75    Male     Poor        UG        No\n",
            "16   59    Male     Poor        UG       Yes\n",
            "17   22  Female     Poor        UG       Yes\n",
            "18   19    Male     Good    School        No\n",
            "19   97    Male     Poor        PG       Yes\n",
            "20   57  Female  Average    School       Yes\n",
            "21   32    Male  Average        PG        No\n",
            "22   18  Female     Poor        PG       Yes\n",
            "23   96  Female     Good    School        No\n",
            "24   16  Female  Average        PG       Yes\n",
            "25   57  Female     Good    School        No\n",
            "26   53  Female     Poor        PG        No\n",
            "27   69  Female     Poor        PG        No\n",
            "28   48    Male     Poor    School        No\n",
            "29   83  Female  Average        UG       Yes\n",
            "30   73    Male  Average        UG        No\n",
            "31   22  Female     Poor    School       Yes\n",
            "32   92    Male  Average        UG       Yes\n",
            "33   89  Female     Good        PG       Yes\n",
            "34   86    Male  Average    School        No\n",
            "35   74    Male     Poor    School       Yes\n",
            "36   34  Female     Good        UG       Yes\n",
            "37   94    Male  Average        PG       Yes\n",
            "38   45  Female     Good    School        No\n",
            "39   76    Male     Poor        PG        No\n",
            "40   39    Male     Good    School        No\n",
            "41   23    Male     Good        PG       Yes\n",
            "42   30  Female     Good        PG       Yes\n",
            "43   27    Male     Poor        PG        No\n",
            "44   77  Female  Average        UG        No\n",
            "45   61    Male     Poor        PG       Yes\n",
            "46   64  Female     Poor        PG        No\n",
            "47   38  Female     Good        PG       Yes\n",
            "48   39  Female     Good        UG       Yes\n",
            "49   25  Female     Good        UG        No\n"
          ]
        }
      ],
      "source": [
        "df=pd.read_csv(\"customer.csv\")\n",
        "print(df)"
      ]
    },
    {
      "cell_type": "code",
      "execution_count": null,
      "metadata": {
        "colab": {
          "base_uri": "https://localhost:8080/"
        },
        "id": "mQ7n3fhEJGPV",
        "outputId": "35f5460a-f53c-46c7-d0b4-fbbd14369937"
      },
      "outputs": [
        {
          "output_type": "stream",
          "name": "stdout",
          "text": [
            "    age  gender   review education  purchased\n",
            "0    30  Female  Average    School          0\n",
            "1    68  Female     Poor        UG          0\n",
            "2    70  Female     Good        PG          0\n",
            "3    72  Female     Good        PG          0\n",
            "4    16  Female  Average        UG          0\n",
            "5    31  Female  Average    School          1\n",
            "6    18    Male     Good    School          0\n",
            "7    60  Female     Poor    School          1\n",
            "8    65  Female  Average        UG          0\n",
            "9    74    Male     Good        UG          1\n",
            "10   98  Female     Good        UG          1\n",
            "11   74    Male     Good        UG          1\n",
            "12   51    Male     Poor    School          0\n",
            "13   57  Female  Average    School          0\n",
            "14   15    Male     Poor        PG          1\n",
            "15   75    Male     Poor        UG          0\n",
            "16   59    Male     Poor        UG          1\n",
            "17   22  Female     Poor        UG          1\n",
            "18   19    Male     Good    School          0\n",
            "19   97    Male     Poor        PG          1\n",
            "20   57  Female  Average    School          1\n",
            "21   32    Male  Average        PG          0\n",
            "22   18  Female     Poor        PG          1\n",
            "23   96  Female     Good    School          0\n",
            "24   16  Female  Average        PG          1\n",
            "25   57  Female     Good    School          0\n",
            "26   53  Female     Poor        PG          0\n",
            "27   69  Female     Poor        PG          0\n",
            "28   48    Male     Poor    School          0\n",
            "29   83  Female  Average        UG          1\n",
            "30   73    Male  Average        UG          0\n",
            "31   22  Female     Poor    School          1\n",
            "32   92    Male  Average        UG          1\n",
            "33   89  Female     Good        PG          1\n",
            "34   86    Male  Average    School          0\n",
            "35   74    Male     Poor    School          1\n",
            "36   34  Female     Good        UG          1\n",
            "37   94    Male  Average        PG          1\n",
            "38   45  Female     Good    School          0\n",
            "39   76    Male     Poor        PG          0\n",
            "40   39    Male     Good    School          0\n",
            "41   23    Male     Good        PG          1\n",
            "42   30  Female     Good        PG          1\n",
            "43   27    Male     Poor        PG          0\n",
            "44   77  Female  Average        UG          0\n",
            "45   61    Male     Poor        PG          1\n",
            "46   64  Female     Poor        PG          0\n",
            "47   38  Female     Good        PG          1\n",
            "48   39  Female     Good        UG          1\n",
            "49   25  Female     Good        UG          0\n"
          ]
        }
      ],
      "source": [
        "from sklearn import preprocessing\n",
        "label=preprocessing.LabelEncoder()\n",
        "df['purchased']=label.fit_transform(df['purchased'])\n",
        "print(df)"
      ]
    },
    {
      "cell_type": "code",
      "execution_count": null,
      "metadata": {
        "colab": {
          "base_uri": "https://localhost:8080/",
          "height": 226
        },
        "id": "Z6Y_mxAALJeG",
        "outputId": "4d1a1984-fbe3-4a8f-a76b-cd800762c006"
      },
      "outputs": [
        {
          "output_type": "error",
          "ename": "AttributeError",
          "evalue": "ignored",
          "traceback": [
            "\u001b[0;31m---------------------------------------------------------------------------\u001b[0m",
            "\u001b[0;31mAttributeError\u001b[0m                            Traceback (most recent call last)",
            "\u001b[0;32m<ipython-input-27-536ed3972174>\u001b[0m in \u001b[0;36m<module>\u001b[0;34m\u001b[0m\n\u001b[1;32m      1\u001b[0m \u001b[0;32mfrom\u001b[0m \u001b[0msklearn\u001b[0m \u001b[0;32mimport\u001b[0m \u001b[0mpreprocessing\u001b[0m\u001b[0;34m\u001b[0m\u001b[0;34m\u001b[0m\u001b[0m\n\u001b[0;32m----> 2\u001b[0;31m \u001b[0mmy_label\u001b[0m\u001b[0;34m=\u001b[0m\u001b[0mpreprocessing\u001b[0m\u001b[0;34m.\u001b[0m\u001b[0mlabelEncoder\u001b[0m\u001b[0;34m(\u001b[0m\u001b[0;34m)\u001b[0m\u001b[0;34m\u001b[0m\u001b[0;34m\u001b[0m\u001b[0m\n\u001b[0m\u001b[1;32m      3\u001b[0m \u001b[0mdf\u001b[0m\u001b[0;34m[\u001b[0m\u001b[0;34m\"purchased\"\u001b[0m\u001b[0;34m]\u001b[0m\u001b[0;34m=\u001b[0m\u001b[0mmy_label\u001b[0m\u001b[0;34m.\u001b[0m\u001b[0mfit_transform\u001b[0m\u001b[0;34m(\u001b[0m\u001b[0mdf\u001b[0m\u001b[0;34m[\u001b[0m\u001b[0;34m\"purchased\"\u001b[0m\u001b[0;34m]\u001b[0m\u001b[0;34m)\u001b[0m\u001b[0;34m\u001b[0m\u001b[0;34m\u001b[0m\u001b[0m\n\u001b[1;32m      4\u001b[0m \u001b[0mprint\u001b[0m\u001b[0;34m(\u001b[0m\u001b[0mdf\u001b[0m\u001b[0;34m)\u001b[0m\u001b[0;34m\u001b[0m\u001b[0;34m\u001b[0m\u001b[0m\n",
            "\u001b[0;31mAttributeError\u001b[0m: module 'sklearn.preprocessing' has no attribute 'labelEncoder'"
          ]
        }
      ],
      "source": [
        "from sklearn import preprocessing\n",
        "my_label=preprocessing.labelEncoder()\n",
        "df[\"purchased\"]=my_label.fit_transform(df[\"purchased\"])\n",
        "print(df)\n"
      ]
    },
    {
      "cell_type": "code",
      "execution_count": null,
      "metadata": {
        "id": "_uombSO1Mx3G"
      },
      "outputs": [],
      "source": [
        "\n",
        "from sklearn.preprossing import OrdinalEncoder\n",
        "oe=OrdinalEncoder(categories=[['Poor','Average','Goood'],['School','UG','PG']])\n",
        "df[['review','education']]=oe.fit_transform(df[['review','education']])"
      ]
    }
  ],
  "metadata": {
    "colab": {
      "provenance": []
    },
    "kernelspec": {
      "display_name": "Python 3",
      "name": "python3"
    },
    "language_info": {
      "name": "python"
    }
  },
  "nbformat": 4,
  "nbformat_minor": 0
}