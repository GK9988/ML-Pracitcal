{
  "nbformat": 4,
  "nbformat_minor": 0,
  "metadata": {
    "colab": {
      "provenance": []
    },
    "kernelspec": {
      "name": "python3",
      "display_name": "Python 3"
    },
    "language_info": {
      "name": "python"
    }
  },
  "cells": [
    {
      "cell_type": "code",
      "execution_count": null,
      "metadata": {
        "colab": {
          "base_uri": "https://localhost:8080/"
        },
        "id": "5b-M4jK0W6w-",
        "outputId": "7e709931-2b65-4112-e457-83d34c8da447"
      },
      "outputs": [
        {
          "output_type": "stream",
          "name": "stdout",
          "text": [
            "[22]\n",
            "[[1 2 3]\n",
            " [4 5 6]]\n",
            "[[[11 22 33]\n",
            "  [44 55 66]\n",
            "  [77 88 99]]]\n"
          ]
        }
      ],
      "source": [
        "import numpy as np\n",
        "a=np.array([22])\n",
        "a1=np.array([[1,2,3],[4,5,6]])\n",
        "a2=np.array([[[11,22,33],[44,55,66],[77,88,99]]])\n",
        "print(a)\n",
        "print(a1)\n",
        "print(a2)"
      ]
    },
    {
      "cell_type": "code",
      "source": [
        "print(\"dimention of array \",a2.ndim)\n",
        "print(\"element at the index is \",a1[0][0])\n",
        "print(\"use of arange function \",np.arange(0,50,5))\n",
        "print(\"max value of the 2d array is \",np.max(a1))\n",
        "print(\"max value of the 3d array is \",np.max(a2))\n",
        "print(\"min value of the 2d array is \",np.min(a1))\n",
        "print(\"min value of the 3d array is \",np.min(a2))"
      ],
      "metadata": {
        "colab": {
          "base_uri": "https://localhost:8080/"
        },
        "id": "ZfU0se-gYQYl",
        "outputId": "f2266b74-8c79-4e3e-cc5b-2d6c2236570e"
      },
      "execution_count": null,
      "outputs": [
        {
          "output_type": "stream",
          "name": "stdout",
          "text": [
            "dimention of array  3\n",
            "element at the index is  1\n",
            "use of arange function  [ 0  5 10 15 20 25 30 35 40 45]\n",
            "max value of the 2d array is  6\n",
            "max value of the 3d array is  99\n",
            "min value of the 2d array is  1\n",
            "min value of the 3d array is  11\n"
          ]
        }
      ]
    },
    {
      "cell_type": "code",
      "source": [
        "a3=np.array([[12,23,34],[45,56,67]])\n",
        "print(\"array before reshaping \",a3)\n",
        "print(\"array after reshaping \\n\",a3.reshape(2,3))"
      ],
      "metadata": {
        "colab": {
          "base_uri": "https://localhost:8080/"
        },
        "id": "zp_pBEtid7ZF",
        "outputId": "a57cf4d9-7e7a-4882-8af7-8fb681c3e4ef"
      },
      "execution_count": null,
      "outputs": [
        {
          "output_type": "stream",
          "name": "stdout",
          "text": [
            "array before reshaping  [[12 23 34]\n",
            " [45 56 67]]\n",
            "array after reshaping \n",
            " [[12 23 34]\n",
            " [45 56 67]]\n"
          ]
        }
      ]
    },
    {
      "cell_type": "code",
      "source": [
        "import math \n",
        "print(\"absolute value \",math.fabs(-52.03))\n",
        "print(\"factorial value \",math.factorial(5))\n",
        "print(\"floor value \",math.floor(88.88))\n",
        "print(\"ceil value \",math.ceil(88.88))\n",
        "print(\"logirithmic value \",math.log(2,10))\n",
        "print(\"power value \",math.pow(2,3))\n",
        "print(\"square root value \",math.sqrt(25))"
      ],
      "metadata": {
        "colab": {
          "base_uri": "https://localhost:8080/"
        },
        "id": "2XjXW6y4ZuZs",
        "outputId": "3e4eeb7e-5d7d-4a84-913e-fc5531e58f9f"
      },
      "execution_count": null,
      "outputs": [
        {
          "output_type": "stream",
          "name": "stdout",
          "text": [
            "absolute value  52.03\n",
            "factorial value  120\n",
            "floor value  88\n",
            "ceil value  89\n",
            "logirithmic value  0.30102999566398114\n",
            "power value  8.0\n",
            "square root value  5.0\n"
          ]
        }
      ]
    },
    {
      "cell_type": "code",
      "source": [
        "x=3\n",
        "z=(math.pow(x,2))+(math.factorial(5))\n",
        "print(\"value of z is \",z)"
      ],
      "metadata": {
        "colab": {
          "base_uri": "https://localhost:8080/"
        },
        "id": "oSFaG_jnbC6c",
        "outputId": "4598a231-e357-4376-84bb-a45ba6dca8f5"
      },
      "execution_count": null,
      "outputs": [
        {
          "output_type": "stream",
          "name": "stdout",
          "text": [
            "value of z is  129.0\n"
          ]
        }
      ]
    },
    {
      "cell_type": "code",
      "source": [
        "from scipy import linalg as lg\n",
        "a4=np.array([[87,98],[34,43]])\n",
        "print(\"determinant of the matrix is \",lg.det(a4))\n",
        "egval,egvec=lg.eig(a4)\n",
        "print(\"get eigenvalues\",egval)\n",
        "print(\"get eigenvector \\n\",egvec)\n"
      ],
      "metadata": {
        "colab": {
          "base_uri": "https://localhost:8080/"
        },
        "id": "ZhnujgV8ce3U",
        "outputId": "c57c40a6-4716-4d2a-80c2-7260dc57f707"
      },
      "execution_count": null,
      "outputs": [
        {
          "output_type": "stream",
          "name": "stdout",
          "text": [
            "determinant of the matrix is  408.9999999999996\n",
            "get eigenvalues [126.77378085+0.j   3.22621915+0.j]\n",
            "get eigenvector \n",
            " [[ 0.92659418 -0.76012293]\n",
            " [ 0.37606279  0.6497793 ]]\n"
          ]
        }
      ]
    },
    {
      "cell_type": "code",
      "source": [
        "import matplotlib.pyplot as plt\n",
        "#%matplotlib inline\n",
        "x=[1,2,3,4,5,6,7]  #day\n",
        "y=[50,51,52,48,47,49,46] #temperature\n",
        "plt.plot(x,y)"
      ],
      "metadata": {
        "colab": {
          "base_uri": "https://localhost:8080/",
          "height": 282
        },
        "id": "aBwcyi5_eq8b",
        "outputId": "69ed8a4e-f726-4fb1-a8be-39b87545f3b8"
      },
      "execution_count": null,
      "outputs": [
        {
          "output_type": "execute_result",
          "data": {
            "text/plain": [
              "[<matplotlib.lines.Line2D at 0x7f76bc09d760>]"
            ]
          },
          "metadata": {},
          "execution_count": 7
        },
        {
          "output_type": "display_data",
          "data": {
            "text/plain": [
              "<Figure size 432x288 with 1 Axes>"
            ],
            "image/png": "[encoded data removed]"
          },
          "metadata": {
            "needs_background": "light"
          }
        }
      ]
    },
    {
      "cell_type": "code",
      "source": [
        "plt.xlabel(\"Day\")\n",
        "plt.ylabel(\"Temperature\")\n",
        "plt.title(\"weather\")\n",
        "plt.plot(x,y,\"b+--\")"
      ],
      "metadata": {
        "colab": {
          "base_uri": "https://localhost:8080/",
          "height": 312
        },
        "id": "w8s42WSaglv0",
        "outputId": "75fd3bdd-c9d8-4b6e-911b-e946f1024612"
      },
      "execution_count": null,
      "outputs": [
        {
          "output_type": "execute_result",
          "data": {
            "text/plain": [
              "[<matplotlib.lines.Line2D at 0x7f76a1f42940>]"
            ]
          },
          "metadata": {},
          "execution_count": 8
        },
        {
          "output_type": "display_data",
          "data": {
            "text/plain": [
              "<Figure size 432x288 with 1 Axes>"
            ],
            "image/png": "[encoded data removed]"
          },
          "metadata": {
            "needs_background": "light"
          }
        }
      ]
    },
    {
      "cell_type": "code",
      "source": [
        "plt.plot(x,y,color=\"green\",linewidth=10,linestyle=\"dotted\")"
      ],
      "metadata": {
        "colab": {
          "base_uri": "https://localhost:8080/",
          "height": 282
        },
        "id": "YufMzsC0hb2c",
        "outputId": "29f48676-875c-438b-e975-8b6865aa5b93"
      },
      "execution_count": null,
      "outputs": [
        {
          "output_type": "execute_result",
          "data": {
            "text/plain": [
              "[<matplotlib.lines.Line2D at 0x7f76a1eb1d30>]"
            ]
          },
          "metadata": {},
          "execution_count": 9
        },
        {
          "output_type": "display_data",
          "data": {
            "text/plain": [
              "<Figure size 432x288 with 1 Axes>"
            ],
            "image/png": "[encoded data removed]"
          },
          "metadata": {
            "needs_background": "light"
          }
        }
      ]
    },
    {
      "cell_type": "code",
      "source": [
        "plt.plot(x,y,color=\"red\",marker=\"+\",linestyle=\" \")"
      ],
      "metadata": {
        "colab": {
          "base_uri": "https://localhost:8080/",
          "height": 282
        },
        "id": "zMkfxPIOhwj7",
        "outputId": "0f79e38e-e70e-4c2a-d43a-9f798960aee8"
      },
      "execution_count": null,
      "outputs": [
        {
          "output_type": "execute_result",
          "data": {
            "text/plain": [
              "[<matplotlib.lines.Line2D at 0x7f76a1e9e8e0>]"
            ]
          },
          "metadata": {},
          "execution_count": 10
        },
        {
          "output_type": "display_data",
          "data": {
            "text/plain": [
              "<Figure size 432x288 with 1 Axes>"
            ],
            "image/png": "[encoded data removed]"
          },
          "metadata": {
            "needs_background": "light"
          }
        }
      ]
    },
    {
      "cell_type": "code",
      "source": [
        "plt.plot(x,y,color=\"#785844\",marker=\"+\",linewidth=10,linestyle=\"dotted\")"
      ],
      "metadata": {
        "colab": {
          "base_uri": "https://localhost:8080/",
          "height": 282
        },
        "id": "2MLgrVXvh5Z7",
        "outputId": "2321338a-dd6a-4e13-aba6-3415df1a9a37"
      },
      "execution_count": null,
      "outputs": [
        {
          "output_type": "execute_result",
          "data": {
            "text/plain": [
              "[<matplotlib.lines.Line2D at 0x7f76a1e0aa00>]"
            ]
          },
          "metadata": {},
          "execution_count": 11
        },
        {
          "output_type": "display_data",
          "data": {
            "text/plain": [
              "<Figure size 432x288 with 1 Axes>"
            ],
            "image/png": "[encoded data removed]"
          },
          "metadata": {
            "needs_background": "light"
          }
        }
      ]
    },
    {
      "cell_type": "code",
      "source": [
        "plt.subplot(1,2,1)\n",
        "plt.plot([1,2,3,4],[1,2,6,15],\"g\")\n",
        "plt.title(\"First plot\")\n",
        "plt.subplot(1,2,2)\n",
        "plt.plot([3,9,6,12],[5,12,16,8],\"g\")\n",
        "plt.title(\"First plot\")"
      ],
      "metadata": {
        "id": "_7bMDzVyiLc7",
        "colab": {
          "base_uri": "https://localhost:8080/",
          "height": 298
        },
        "outputId": "2ad73a60-8c7c-4ba5-a82c-190ebd400d98"
      },
      "execution_count": null,
      "outputs": [
        {
          "output_type": "execute_result",
          "data": {
            "text/plain": [
              "Text(0.5, 1.0, 'First plot')"
            ]
          },
          "metadata": {},
          "execution_count": 20
        },
        {
          "output_type": "display_data",
          "data": {
            "text/plain": [
              "<Figure size 432x288 with 2 Axes>"
            ],
            "image/png": "[encoded data removed]"
          },
          "metadata": {
            "needs_background": "light"
          }
        }
      ]
    },
    {
      "cell_type": "code",
      "source": [
        "x =[10,15,20,25,30,35]\n",
        "y =[2,4,6,8,10,12]\n",
        "plt.bar(x,y)"
      ],
      "metadata": {
        "colab": {
          "base_uri": "https://localhost:8080/",
          "height": 282
        },
        "id": "aeGWA9c0Ktqk",
        "outputId": "9d96e575-f132-463b-d91a-bf4b052149e5"
      },
      "execution_count": null,
      "outputs": [
        {
          "output_type": "execute_result",
          "data": {
            "text/plain": [
              "<BarContainer object of 6 artists>"
            ]
          },
          "metadata": {},
          "execution_count": 22
        },
        {
          "output_type": "display_data",
          "data": {
            "text/plain": [
              "<Figure size 432x288 with 1 Axes>"
            ],
            "image/png": "[encoded data removed]"
          },
          "metadata": {
            "needs_background": "light"
          }
        }
      ]
    },
    {
      "cell_type": "code",
      "source": [],
      "metadata": {
        "id": "j9VSGIOjMOk4"
      },
      "execution_count": null,
      "outputs": []
    }
  ]
}